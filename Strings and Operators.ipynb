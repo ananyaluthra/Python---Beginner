{
  "nbformat": 4,
  "nbformat_minor": 0,
  "metadata": {
    "colab": {
      "provenance": [],
      "toc_visible": true,
      "authorship_tag": "ABX9TyP2cIc/4Sa4t6iR+OhEmvNF",
      "include_colab_link": true
    },
    "kernelspec": {
      "name": "python3",
      "display_name": "Python 3"
    },
    "language_info": {
      "name": "python"
    }
  },
  "cells": [
    {
      "cell_type": "markdown",
      "metadata": {
        "id": "view-in-github",
        "colab_type": "text"
      },
      "source": [
        "<a href=\"https://colab.research.google.com/github/ananyaluthra/Python/blob/main/Strings%20and%20Operators.ipynb\" target=\"_parent\"><img src=\"https://colab.research.google.com/assets/colab-badge.svg\" alt=\"Open In Colab\"/></a>"
      ]
    },
    {
      "cell_type": "markdown",
      "source": [
        "# Data types:"
      ],
      "metadata": {
        "id": "IIPj5Z7VBcky"
      }
    },
    {
      "cell_type": "markdown",
      "source": [
        "## Strings:"
      ],
      "metadata": {
        "id": "ujsESU0UBnTm"
      }
    },
    {
      "cell_type": "code",
      "source": [
        "a=\"Ananya\" or a='Ananya'"
      ],
      "metadata": {
        "id": "RPylX9p7B08R"
      },
      "execution_count": null,
      "outputs": []
    },
    {
      "cell_type": "code",
      "source": [
        "p=\"I like to\"+\"'learn'\"+\"python\""
      ],
      "metadata": {
        "id": "XuKlYIPOCuzP"
      },
      "execution_count": 4,
      "outputs": []
    },
    {
      "cell_type": "code",
      "source": [
        "s=\"I like to \\'learn\\' python\""
      ],
      "metadata": {
        "id": "a9hzT6ULBbQ7"
      },
      "execution_count": 9,
      "outputs": []
    },
    {
      "cell_type": "code",
      "source": [
        "w=\"I like to learn python\""
      ],
      "metadata": {
        "id": "5ps9CuRkDQ9C"
      },
      "execution_count": 11,
      "outputs": []
    },
    {
      "cell_type": "code",
      "source": [
        "e=w.replace('learn','\\'learn\\'')"
      ],
      "metadata": {
        "id": "Myar8q3jCbJH"
      },
      "execution_count": 12,
      "outputs": []
    },
    {
      "cell_type": "code",
      "execution_count": 13,
      "metadata": {
        "colab": {
          "base_uri": "https://localhost:8080/"
        },
        "id": "53_a4AFXBUvy",
        "outputId": "6641f043-f798-4b50-ad21-22cd755abf5e"
      },
      "outputs": [
        {
          "output_type": "stream",
          "name": "stdout",
          "text": [
            "I like to 'learn' python\n",
            "I like to 'learn' python\n",
            "I like to 'learn' python\n"
          ]
        }
      ],
      "source": [
        "print(s)\n",
        "print(p)\n",
        "print(e)"
      ]
    },
    {
      "cell_type": "code",
      "source": [
        "p=\"I like to 'learn' python\""
      ],
      "metadata": {
        "id": "IKh_YQsnDCnu"
      },
      "execution_count": 14,
      "outputs": []
    },
    {
      "cell_type": "code",
      "source": [
        "l=len(s)\n",
        "print(l)"
      ],
      "metadata": {
        "colab": {
          "base_uri": "https://localhost:8080/"
        },
        "id": "Ayh5J_nSDhId",
        "outputId": "68327903-d5e6-437c-e788-93ef05214ebe"
      },
      "execution_count": 17,
      "outputs": [
        {
          "output_type": "stream",
          "name": "stdout",
          "text": [
            "24\n"
          ]
        }
      ]
    },
    {
      "cell_type": "code",
      "source": [
        "a=True"
      ],
      "metadata": {
        "id": "1b9YoUexDvPS"
      },
      "execution_count": 19,
      "outputs": []
    },
    {
      "cell_type": "markdown",
      "source": [
        "# TypeCasting"
      ],
      "metadata": {
        "id": "UtJ__WSbD9oz"
      }
    },
    {
      "cell_type": "code",
      "source": [
        "a=10\n",
        "print(a)\n",
        "a=float(a)\n",
        "print(a)"
      ],
      "metadata": {
        "colab": {
          "base_uri": "https://localhost:8080/"
        },
        "id": "ZCuZnhQkEEX2",
        "outputId": "307b5c7e-250e-4c68-d9e8-581c732f82a4"
      },
      "execution_count": 21,
      "outputs": [
        {
          "output_type": "stream",
          "name": "stdout",
          "text": [
            "10\n",
            "10.0\n"
          ]
        }
      ]
    },
    {
      "cell_type": "code",
      "source": [
        "a=int(a)\n",
        "print(a)"
      ],
      "metadata": {
        "colab": {
          "base_uri": "https://localhost:8080/"
        },
        "id": "kHI0HZ8HELXe",
        "outputId": "24e4c3ea-0614-45d0-c7ae-c38eaa62c47b"
      },
      "execution_count": 23,
      "outputs": [
        {
          "output_type": "stream",
          "name": "stdout",
          "text": [
            "10\n"
          ]
        }
      ]
    },
    {
      "cell_type": "code",
      "source": [
        "a='10'\n",
        "a=int(a)\n",
        "print(a)\n",
        "a=float(a)\n",
        "print(a)\n",
        "a=str(a)\n",
        "print(type(a))"
      ],
      "metadata": {
        "colab": {
          "base_uri": "https://localhost:8080/"
        },
        "id": "R8lVFvl8ERDg",
        "outputId": "7e582408-bcb9-4417-bca4-3282f7959c47"
      },
      "execution_count": 27,
      "outputs": [
        {
          "output_type": "stream",
          "name": "stdout",
          "text": [
            "10\n",
            "10.0\n",
            "<class 'str'>\n"
          ]
        }
      ]
    },
    {
      "cell_type": "markdown",
      "source": [
        "# Variables\n"
      ],
      "metadata": {
        "id": "V1MYKjKvEnh-"
      }
    },
    {
      "cell_type": "markdown",
      "source": [
        "## Case sensitive"
      ],
      "metadata": {
        "id": "G3pCdCHQE7Xn"
      }
    },
    {
      "cell_type": "code",
      "source": [
        "name=\"My name is ananya\"\n",
        "print(NAME)\n"
      ],
      "metadata": {
        "colab": {
          "base_uri": "https://localhost:8080/",
          "height": 183
        },
        "id": "8BQynfPjEjqV",
        "outputId": "ea299982-79ad-499f-b44a-24e325452fad"
      },
      "execution_count": 29,
      "outputs": [
        {
          "output_type": "error",
          "ename": "NameError",
          "evalue": "ignored",
          "traceback": [
            "\u001b[0;31m---------------------------------------------------------------------------\u001b[0m",
            "\u001b[0;31mNameError\u001b[0m                                 Traceback (most recent call last)",
            "\u001b[0;32m<ipython-input-29-199214c2631f>\u001b[0m in \u001b[0;36m<cell line: 2>\u001b[0;34m()\u001b[0m\n\u001b[1;32m      1\u001b[0m \u001b[0mname\u001b[0m\u001b[0;34m=\u001b[0m\u001b[0;34m\"My name is ananya\"\u001b[0m\u001b[0;34m\u001b[0m\u001b[0;34m\u001b[0m\u001b[0m\n\u001b[0;32m----> 2\u001b[0;31m \u001b[0mprint\u001b[0m\u001b[0;34m(\u001b[0m\u001b[0mNAME\u001b[0m\u001b[0;34m)\u001b[0m\u001b[0;34m\u001b[0m\u001b[0;34m\u001b[0m\u001b[0m\n\u001b[0m",
            "\u001b[0;31mNameError\u001b[0m: name 'NAME' is not defined"
          ]
        }
      ]
    },
    {
      "cell_type": "code",
      "source": [
        "first name=\"Ananya\"\n",
        "print(first name)"
      ],
      "metadata": {
        "colab": {
          "base_uri": "https://localhost:8080/",
          "height": 131
        },
        "id": "eYmrtNtKFB0H",
        "outputId": "6509fb20-5dea-4146-f692-6280d78a1439"
      },
      "execution_count": 31,
      "outputs": [
        {
          "output_type": "error",
          "ename": "SyntaxError",
          "evalue": "ignored",
          "traceback": [
            "\u001b[0;36m  File \u001b[0;32m\"<ipython-input-31-584ddedcb81e>\"\u001b[0;36m, line \u001b[0;32m1\u001b[0m\n\u001b[0;31m    first name=\"Ananya\"\u001b[0m\n\u001b[0m          ^\u001b[0m\n\u001b[0;31mSyntaxError\u001b[0m\u001b[0;31m:\u001b[0m invalid syntax\n"
          ]
        }
      ]
    },
    {
      "cell_type": "code",
      "source": [
        "7='we are family'\n",
        "print(7)"
      ],
      "metadata": {
        "colab": {
          "base_uri": "https://localhost:8080/",
          "height": 131
        },
        "id": "T7r-QgJXFX24",
        "outputId": "fdae430b-9939-4367-b61f-56c07e816484"
      },
      "execution_count": 33,
      "outputs": [
        {
          "output_type": "error",
          "ename": "SyntaxError",
          "evalue": "ignored",
          "traceback": [
            "\u001b[0;36m  File \u001b[0;32m\"<ipython-input-33-a679dce2b9cc>\"\u001b[0;36m, line \u001b[0;32m1\u001b[0m\n\u001b[0;31m    7='we are family'\u001b[0m\n\u001b[0m    ^\u001b[0m\n\u001b[0;31mSyntaxError\u001b[0m\u001b[0;31m:\u001b[0m cannot assign to literal here. Maybe you meant '==' instead of '='?\n"
          ]
        }
      ]
    },
    {
      "cell_type": "code",
      "source": [
        "#variable names cannot start with a number but can contain numbers\n",
        "name7='we are family'\n",
        "print(name7)"
      ],
      "metadata": {
        "colab": {
          "base_uri": "https://localhost:8080/"
        },
        "id": "-K6XwLdoFheU",
        "outputId": "00066f56-9cd7-4e29-8c2d-1ca56b1ae87d"
      },
      "execution_count": 34,
      "outputs": [
        {
          "output_type": "stream",
          "name": "stdout",
          "text": [
            "we are family\n"
          ]
        }
      ]
    },
    {
      "cell_type": "code",
      "source": [
        "#only underscore is a special character that is allowed in variable name\n",
        "$='elephant'\n",
        "print($)"
      ],
      "metadata": {
        "colab": {
          "base_uri": "https://localhost:8080/",
          "height": 131
        },
        "id": "8tq4hxo0Fx__",
        "outputId": "0add757f-5a08-4ec4-adcd-ea2b6d65b985"
      },
      "execution_count": 36,
      "outputs": [
        {
          "output_type": "error",
          "ename": "SyntaxError",
          "evalue": "ignored",
          "traceback": [
            "\u001b[0;36m  File \u001b[0;32m\"<ipython-input-36-88df0f3291b6>\"\u001b[0;36m, line \u001b[0;32m1\u001b[0m\n\u001b[0;31m    $='elephant'\u001b[0m\n\u001b[0m    ^\u001b[0m\n\u001b[0;31mSyntaxError\u001b[0m\u001b[0;31m:\u001b[0m invalid syntax\n"
          ]
        }
      ]
    },
    {
      "cell_type": "code",
      "source": [
        "#underscore can be there in the starting as well\n",
        "animal_='elephant'\n",
        "print(animal_)"
      ],
      "metadata": {
        "colab": {
          "base_uri": "https://localhost:8080/"
        },
        "id": "VBeRTsrxGBm6",
        "outputId": "0b500171-77c9-47b0-d8c0-14108bcd52d1"
      },
      "execution_count": 39,
      "outputs": [
        {
          "output_type": "stream",
          "name": "stdout",
          "text": [
            "elephant\n"
          ]
        }
      ]
    },
    {
      "cell_type": "code",
      "source": [
        "for='Ananya'\n",
        "print(for)"
      ],
      "metadata": {
        "colab": {
          "base_uri": "https://localhost:8080/",
          "height": 131
        },
        "id": "nzk2ed4jGU4p",
        "outputId": "c1c6baba-ec2a-423c-c71b-8ca8e8ff191c"
      },
      "execution_count": 41,
      "outputs": [
        {
          "output_type": "error",
          "ename": "SyntaxError",
          "evalue": "ignored",
          "traceback": [
            "\u001b[0;36m  File \u001b[0;32m\"<ipython-input-41-8b085b0fe3e6>\"\u001b[0;36m, line \u001b[0;32m1\u001b[0m\n\u001b[0;31m    for='Ananya'\u001b[0m\n\u001b[0m       ^\u001b[0m\n\u001b[0;31mSyntaxError\u001b[0m\u001b[0;31m:\u001b[0m invalid syntax\n"
          ]
        }
      ]
    },
    {
      "cell_type": "code",
      "source": [
        "#this wil work, but you should not use it!\n",
        "sum='Ananya'\n",
        "print(sum)"
      ],
      "metadata": {
        "colab": {
          "base_uri": "https://localhost:8080/"
        },
        "id": "OjBhR3qPGgFg",
        "outputId": "fa2afa5f-c4a6-4e0a-9ec2-671a047777d0"
      },
      "execution_count": 43,
      "outputs": [
        {
          "output_type": "stream",
          "name": "stdout",
          "text": [
            "Ananya\n"
          ]
        }
      ]
    },
    {
      "cell_type": "code",
      "source": [
        "#This is a list and not array\n",
        "l1=[95,96,98,94,92]\n",
        "print(l1)"
      ],
      "metadata": {
        "colab": {
          "base_uri": "https://localhost:8080/"
        },
        "id": "8aPSNx_6Gw9p",
        "outputId": "f2885dcc-458b-4e2f-c94e-5b34d7228b9d"
      },
      "execution_count": 2,
      "outputs": [
        {
          "output_type": "stream",
          "name": "stdout",
          "text": [
            "[95, 96, 98, 94, 92]\n"
          ]
        }
      ]
    },
    {
      "cell_type": "code",
      "source": [
        "total=sum(l1)\n",
        "print(total)"
      ],
      "metadata": {
        "colab": {
          "base_uri": "https://localhost:8080/"
        },
        "id": "WXXf7rEDHH7M",
        "outputId": "b3dc8c71-5e83-4775-de42-7b57617a877e"
      },
      "execution_count": 4,
      "outputs": [
        {
          "output_type": "stream",
          "name": "stdout",
          "text": [
            "475\n"
          ]
        }
      ]
    },
    {
      "cell_type": "markdown",
      "source": [
        "# Operators"
      ],
      "metadata": {
        "id": "Fb92UNNlHqvF"
      }
    },
    {
      "cell_type": "code",
      "source": [
        "#Arithmetic Operators\n",
        "# Relationship or comparison operator :\n",
        "#logical operators: or, and, not\n",
        "#membership operators: in, not in\n",
        "#assignment operators: equal to"
      ],
      "metadata": {
        "id": "bPe_9j3lHoPW"
      },
      "execution_count": null,
      "outputs": []
    },
    {
      "cell_type": "code",
      "source": [
        "4+2"
      ],
      "metadata": {
        "colab": {
          "base_uri": "https://localhost:8080/"
        },
        "id": "vXKDJIlCIdqI",
        "outputId": "f1dbe7b3-0dfd-48bc-9a13-e359b1aaec0e"
      },
      "execution_count": 6,
      "outputs": [
        {
          "output_type": "execute_result",
          "data": {
            "text/plain": [
              "6"
            ]
          },
          "metadata": {},
          "execution_count": 6
        }
      ]
    },
    {
      "cell_type": "code",
      "source": [
        "4*2"
      ],
      "metadata": {
        "colab": {
          "base_uri": "https://localhost:8080/"
        },
        "id": "SHfgPTnAIpvx",
        "outputId": "3f5f82fb-ba14-4728-e6b1-47f00809b40a"
      },
      "execution_count": 8,
      "outputs": [
        {
          "output_type": "execute_result",
          "data": {
            "text/plain": [
              "8"
            ]
          },
          "metadata": {},
          "execution_count": 8
        }
      ]
    },
    {
      "cell_type": "code",
      "source": [
        "4-2"
      ],
      "metadata": {
        "colab": {
          "base_uri": "https://localhost:8080/"
        },
        "id": "Ws2ugF6tIsA0",
        "outputId": "bc82186a-bcdc-4e3e-c52c-964ecec36e59"
      },
      "execution_count": 9,
      "outputs": [
        {
          "output_type": "execute_result",
          "data": {
            "text/plain": [
              "2"
            ]
          },
          "metadata": {},
          "execution_count": 9
        }
      ]
    },
    {
      "cell_type": "code",
      "source": [
        "4/2"
      ],
      "metadata": {
        "colab": {
          "base_uri": "https://localhost:8080/"
        },
        "id": "acRQPwgdIwWL",
        "outputId": "aa550385-0141-47f8-efbe-938edec969aa"
      },
      "execution_count": 10,
      "outputs": [
        {
          "output_type": "execute_result",
          "data": {
            "text/plain": [
              "2.0"
            ]
          },
          "metadata": {},
          "execution_count": 10
        }
      ]
    },
    {
      "cell_type": "code",
      "source": [
        "4%2"
      ],
      "metadata": {
        "colab": {
          "base_uri": "https://localhost:8080/"
        },
        "id": "GAfzpIKGIxaC",
        "outputId": "f656f39a-6c81-46d8-dbb9-6c406c2e71f6"
      },
      "execution_count": 12,
      "outputs": [
        {
          "output_type": "execute_result",
          "data": {
            "text/plain": [
              "0"
            ]
          },
          "metadata": {},
          "execution_count": 12
        }
      ]
    },
    {
      "cell_type": "code",
      "source": [
        "#floor division\n",
        "5//2"
      ],
      "metadata": {
        "colab": {
          "base_uri": "https://localhost:8080/"
        },
        "id": "kSQ2Y51kIzQF",
        "outputId": "8addcbf1-6cf7-4db6-91b8-ccebbaaa937d"
      },
      "execution_count": 14,
      "outputs": [
        {
          "output_type": "execute_result",
          "data": {
            "text/plain": [
              "2"
            ]
          },
          "metadata": {},
          "execution_count": 14
        }
      ]
    },
    {
      "cell_type": "code",
      "source": [
        "2**3"
      ],
      "metadata": {
        "colab": {
          "base_uri": "https://localhost:8080/"
        },
        "id": "20gAGhozJB7q",
        "outputId": "5eef3ef3-b633-4a19-fcee-abd574624e9a"
      },
      "execution_count": 16,
      "outputs": [
        {
          "output_type": "execute_result",
          "data": {
            "text/plain": [
              "8"
            ]
          },
          "metadata": {},
          "execution_count": 16
        }
      ]
    },
    {
      "cell_type": "code",
      "source": [
        "(2+(4*6)//3+20/5)**2"
      ],
      "metadata": {
        "colab": {
          "base_uri": "https://localhost:8080/"
        },
        "id": "SLBPHWYaJJ-W",
        "outputId": "d32caaaa-804f-40df-bd9c-c77c98c6fc1c"
      },
      "execution_count": 17,
      "outputs": [
        {
          "output_type": "execute_result",
          "data": {
            "text/plain": [
              "196.0"
            ]
          },
          "metadata": {},
          "execution_count": 17
        }
      ]
    },
    {
      "cell_type": "markdown",
      "source": [
        "## Relationship/Comparison Operator"
      ],
      "metadata": {
        "id": "bWpr0fZ-JsUe"
      }
    },
    {
      "cell_type": "code",
      "source": [
        "2==3"
      ],
      "metadata": {
        "colab": {
          "base_uri": "https://localhost:8080/"
        },
        "id": "gtEbwY1WJZKd",
        "outputId": "af44798c-ff77-443b-c495-75d288ccb2cd"
      },
      "execution_count": 19,
      "outputs": [
        {
          "output_type": "execute_result",
          "data": {
            "text/plain": [
              "False"
            ]
          },
          "metadata": {},
          "execution_count": 19
        }
      ]
    },
    {
      "cell_type": "code",
      "source": [
        "2!=3"
      ],
      "metadata": {
        "colab": {
          "base_uri": "https://localhost:8080/"
        },
        "id": "upHy8faHJ3si",
        "outputId": "50e8bf91-f1f3-43cd-a6f4-8f6d8cd20625"
      },
      "execution_count": 21,
      "outputs": [
        {
          "output_type": "execute_result",
          "data": {
            "text/plain": [
              "True"
            ]
          },
          "metadata": {},
          "execution_count": 21
        }
      ]
    },
    {
      "cell_type": "code",
      "source": [
        "2<3"
      ],
      "metadata": {
        "colab": {
          "base_uri": "https://localhost:8080/"
        },
        "id": "vq3QS2GrJ5sn",
        "outputId": "28d18953-5bb7-4ddc-afde-59d95fc383bf"
      },
      "execution_count": 22,
      "outputs": [
        {
          "output_type": "execute_result",
          "data": {
            "text/plain": [
              "True"
            ]
          },
          "metadata": {},
          "execution_count": 22
        }
      ]
    },
    {
      "cell_type": "code",
      "source": [
        "2>3"
      ],
      "metadata": {
        "colab": {
          "base_uri": "https://localhost:8080/"
        },
        "id": "hp75MR4QJ6pg",
        "outputId": "7073dbd8-503a-4298-c7bf-f3edcfc998e9"
      },
      "execution_count": 23,
      "outputs": [
        {
          "output_type": "execute_result",
          "data": {
            "text/plain": [
              "False"
            ]
          },
          "metadata": {},
          "execution_count": 23
        }
      ]
    },
    {
      "cell_type": "code",
      "source": [
        "2<=3"
      ],
      "metadata": {
        "colab": {
          "base_uri": "https://localhost:8080/"
        },
        "id": "NjzSlzGQJ7Yl",
        "outputId": "ca2f3319-fe32-4d83-9392-16696a33b6e6"
      },
      "execution_count": 24,
      "outputs": [
        {
          "output_type": "execute_result",
          "data": {
            "text/plain": [
              "True"
            ]
          },
          "metadata": {},
          "execution_count": 24
        }
      ]
    },
    {
      "cell_type": "code",
      "source": [
        "2>=3"
      ],
      "metadata": {
        "colab": {
          "base_uri": "https://localhost:8080/"
        },
        "id": "INroodlHJ8eh",
        "outputId": "c5d7542b-d846-4aac-d7ee-b5ab04061768"
      },
      "execution_count": 25,
      "outputs": [
        {
          "output_type": "execute_result",
          "data": {
            "text/plain": [
              "False"
            ]
          },
          "metadata": {},
          "execution_count": 25
        }
      ]
    },
    {
      "cell_type": "markdown",
      "source": [
        "## Logical Operators"
      ],
      "metadata": {
        "id": "UsrapA9eKAYE"
      }
    },
    {
      "cell_type": "code",
      "source": [
        "2>3 and 4<7"
      ],
      "metadata": {
        "colab": {
          "base_uri": "https://localhost:8080/"
        },
        "id": "jZSoACnHJ9UH",
        "outputId": "f601a922-bac9-4abf-b8e9-d7b7005eae77"
      },
      "execution_count": 26,
      "outputs": [
        {
          "output_type": "execute_result",
          "data": {
            "text/plain": [
              "False"
            ]
          },
          "metadata": {},
          "execution_count": 26
        }
      ]
    },
    {
      "cell_type": "code",
      "source": [
        "2>3 or 4<7"
      ],
      "metadata": {
        "colab": {
          "base_uri": "https://localhost:8080/"
        },
        "id": "UAjwNfmfKImy",
        "outputId": "718b7f58-367c-4acc-d727-f00d6e2c2c75"
      },
      "execution_count": 27,
      "outputs": [
        {
          "output_type": "execute_result",
          "data": {
            "text/plain": [
              "True"
            ]
          },
          "metadata": {},
          "execution_count": 27
        }
      ]
    },
    {
      "cell_type": "code",
      "source": [
        "2<3 and not 4<7"
      ],
      "metadata": {
        "colab": {
          "base_uri": "https://localhost:8080/"
        },
        "id": "4GbI31Q-KMz1",
        "outputId": "63b0833d-c595-4059-8eb4-6f4322ba0a64"
      },
      "execution_count": 30,
      "outputs": [
        {
          "output_type": "execute_result",
          "data": {
            "text/plain": [
              "False"
            ]
          },
          "metadata": {},
          "execution_count": 30
        }
      ]
    },
    {
      "cell_type": "code",
      "source": [
        "2<3 or not 4<7"
      ],
      "metadata": {
        "colab": {
          "base_uri": "https://localhost:8080/"
        },
        "id": "-gfx7WXXKPQc",
        "outputId": "fb11f8f4-bc5a-4fea-ebb8-0d04f2cc8c33"
      },
      "execution_count": 32,
      "outputs": [
        {
          "output_type": "execute_result",
          "data": {
            "text/plain": [
              "True"
            ]
          },
          "metadata": {},
          "execution_count": 32
        }
      ]
    },
    {
      "cell_type": "code",
      "source": [
        "not 4<7"
      ],
      "metadata": {
        "colab": {
          "base_uri": "https://localhost:8080/"
        },
        "id": "mYzsGzkXKe1-",
        "outputId": "7eef9e7f-adff-4e02-8fa6-c9917e5fd56a"
      },
      "execution_count": 33,
      "outputs": [
        {
          "output_type": "execute_result",
          "data": {
            "text/plain": [
              "False"
            ]
          },
          "metadata": {},
          "execution_count": 33
        }
      ]
    },
    {
      "cell_type": "markdown",
      "source": [
        "## Membership Operator"
      ],
      "metadata": {
        "id": "ygeR_o8QKnpQ"
      }
    },
    {
      "cell_type": "code",
      "source": [
        "l2=[1,2,3,4,7]\n",
        "6 not in l2"
      ],
      "metadata": {
        "colab": {
          "base_uri": "https://localhost:8080/"
        },
        "id": "CsJX6yH6KkqP",
        "outputId": "0886ecb2-1a4c-4a19-ee13-905633ea0b7e"
      },
      "execution_count": 38,
      "outputs": [
        {
          "output_type": "execute_result",
          "data": {
            "text/plain": [
              "True"
            ]
          },
          "metadata": {},
          "execution_count": 38
        }
      ]
    },
    {
      "cell_type": "code",
      "source": [
        "'j' in \"Ananya\""
      ],
      "metadata": {
        "colab": {
          "base_uri": "https://localhost:8080/"
        },
        "id": "aliSB8MUL1YN",
        "outputId": "c6226083-1c4d-4b27-baa7-e152f6ed720c"
      },
      "execution_count": 41,
      "outputs": [
        {
          "output_type": "execute_result",
          "data": {
            "text/plain": [
              "False"
            ]
          },
          "metadata": {},
          "execution_count": 41
        }
      ]
    },
    {
      "cell_type": "code",
      "source": [
        "s='Ananya'"
      ],
      "metadata": {
        "id": "yOgMeG5IL5m8"
      },
      "execution_count": 42,
      "outputs": []
    },
    {
      "cell_type": "code",
      "source": [
        "'j' not in 'Ananya'"
      ],
      "metadata": {
        "colab": {
          "base_uri": "https://localhost:8080/"
        },
        "id": "4hQ1VaE2MB7E",
        "outputId": "5b61d846-bf46-4574-fb63-bf3288a9a19b"
      },
      "execution_count": 43,
      "outputs": [
        {
          "output_type": "execute_result",
          "data": {
            "text/plain": [
              "True"
            ]
          },
          "metadata": {},
          "execution_count": 43
        }
      ]
    },
    {
      "cell_type": "markdown",
      "source": [
        "## Assignment Operators"
      ],
      "metadata": {
        "id": "T3d6FtefMKo2"
      }
    },
    {
      "cell_type": "code",
      "source": [
        "# = is  the assignment operator"
      ],
      "metadata": {
        "id": "qc0l4ZSBMEpL"
      },
      "execution_count": 44,
      "outputs": []
    },
    {
      "cell_type": "code",
      "source": [
        "speed=50"
      ],
      "metadata": {
        "id": "Gy2bBX2LMSXw"
      },
      "execution_count": 45,
      "outputs": []
    },
    {
      "cell_type": "code",
      "source": [
        "speed=speed+5"
      ],
      "metadata": {
        "id": "GUYCF-fYMW9i"
      },
      "execution_count": 46,
      "outputs": []
    },
    {
      "cell_type": "code",
      "source": [
        "print(speed)"
      ],
      "metadata": {
        "colab": {
          "base_uri": "https://localhost:8080/"
        },
        "id": "G-wCn6sxMoPj",
        "outputId": "f7b6e34c-b7e2-4212-abd8-3f2ea6810a0f"
      },
      "execution_count": 47,
      "outputs": [
        {
          "output_type": "stream",
          "name": "stdout",
          "text": [
            "55\n"
          ]
        }
      ]
    },
    {
      "cell_type": "code",
      "source": [
        "speed+=5"
      ],
      "metadata": {
        "id": "mQDGS8yjMpwZ"
      },
      "execution_count": 48,
      "outputs": []
    },
    {
      "cell_type": "code",
      "source": [
        "print(speed)"
      ],
      "metadata": {
        "colab": {
          "base_uri": "https://localhost:8080/"
        },
        "id": "UgXnH0lLMt-V",
        "outputId": "e4c04417-070f-48de-a88c-2cb789b2d2d2"
      },
      "execution_count": 49,
      "outputs": [
        {
          "output_type": "stream",
          "name": "stdout",
          "text": [
            "60\n"
          ]
        }
      ]
    },
    {
      "cell_type": "code",
      "source": [
        "speed-=10\n",
        "print(speed)"
      ],
      "metadata": {
        "colab": {
          "base_uri": "https://localhost:8080/"
        },
        "id": "peBxiSOBMv-Y",
        "outputId": "1c092109-4cd2-4edc-8b4b-53dcd8086603"
      },
      "execution_count": 50,
      "outputs": [
        {
          "output_type": "stream",
          "name": "stdout",
          "text": [
            "50\n"
          ]
        }
      ]
    },
    {
      "cell_type": "code",
      "source": [
        "#Question 1\n",
        "num=3\n",
        "if num%2==0:\n",
        "  print(\"Even number\")\n",
        "else:\n",
        "  print(\"Odd number\")"
      ],
      "metadata": {
        "colab": {
          "base_uri": "https://localhost:8080/"
        },
        "id": "VgJkFQReMzru",
        "outputId": "5d7ee213-c35e-41bf-a0e6-91f0fcf65d44"
      },
      "execution_count": 51,
      "outputs": [
        {
          "output_type": "stream",
          "name": "stdout",
          "text": [
            "Odd number\n"
          ]
        }
      ]
    },
    {
      "cell_type": "code",
      "source": [
        "#Question 2\n",
        "theory=float(input(\"Enter marks for theory\"))\n",
        "lab=float(input(\"Enter marks for lab\"))\n",
        "if theory<=40 and lab<=60:\n",
        "  total=theory+lab\n",
        "else:\n",
        "  print(\"Invalid input\")\n",
        "if total>90:\n",
        "  grade='A'\n",
        "elif total>80 and total<=90:\n",
        "  grade='B'\n",
        "elif total>70 and total<=80:\n",
        "  grade='C'\n",
        "elif total>60 and total<=70:\n",
        "  grade='D'\n",
        "print(grade)"
      ],
      "metadata": {
        "id": "QIPA8RfsNMEs"
      },
      "execution_count": null,
      "outputs": []
    },
    {
      "cell_type": "code",
      "source": [
        "#Question 4\n",
        "income=float(input(\"Enter your monthly income here:\"))\n",
        "if income>1000000:\n",
        "  tax=4/100\n",
        "elif income>500000 and income<=1000000:\n",
        "  tax=2/100\n",
        "else:\n",
        "  tax=0\n",
        "incometax=tax*income\n",
        "print(incometax)"
      ],
      "metadata": {
        "colab": {
          "base_uri": "https://localhost:8080/"
        },
        "id": "LhZHqd4BPsbM",
        "outputId": "b865f9e9-c052-43d8-f69f-57fec98b0a8d"
      },
      "execution_count": 56,
      "outputs": [
        {
          "output_type": "stream",
          "name": "stdout",
          "text": [
            "Enter your monthly income here:6000000\n",
            "240000.0\n"
          ]
        }
      ]
    },
    {
      "cell_type": "code",
      "source": [],
      "metadata": {
        "id": "8JkfoHjoQ6tc"
      },
      "execution_count": null,
      "outputs": []
    }
  ]
}